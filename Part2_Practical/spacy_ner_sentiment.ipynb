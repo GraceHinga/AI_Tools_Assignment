{
 "cells": [
  {
   "cell_type": "markdown",
   "id": "69e243b2",
   "metadata": {},
   "source": [
    "# 💬 NLP with spaCy — Named Entity Recognition & Sentiment Analysis\n",
    "\n",
    "**Goal:**  \n",
    "Use spaCy to extract entities (like product names, people, organizations) and TextBlob for sentiment analysis on customer review text.\n",
    "\n",
    "**Frameworks:**  \n",
    "- spaCy (for NER)  \n",
    "- TextBlob (for sentiment polarity)\n",
    "\n",
    "**Steps:**\n",
    "1. Load spaCy and TextBlob  \n",
    "2. Run NER on a few sample reviews  \n",
    "3. Analyze sentiment (positive, neutral, negative)  \n",
    "4. Visualize results and save outputs  "
   ]
  },
  {
   "cell_type": "code",
   "execution_count": 1,
   "id": "845f38e4",
   "metadata": {},
   "outputs": [],
   "source": [
    "import spacy\n",
    "from textblob import TextBlob\n",
    "import matplotlib.pyplot as plt\n",
    "import seaborn as sns\n",
    "import pandas as pd\n",
    "import os"
   ]
  },
  {
   "cell_type": "code",
   "execution_count": 2,
   "id": "989131b1",
   "metadata": {},
   "outputs": [],
   "source": [
    "# Load small English model\n",
    "nlp = spacy.load(\"en_core_web_sm\")\n",
    "\n",
    "# Ensure images folder exists\n",
    "os.makedirs(\"images\", exist_ok=True)"
   ]
  },
  {
   "cell_type": "code",
   "execution_count": 3,
   "id": "98346508",
   "metadata": {},
   "outputs": [
    {
     "data": {
      "text/html": [
       "<div>\n",
       "<style scoped>\n",
       "    .dataframe tbody tr th:only-of-type {\n",
       "        vertical-align: middle;\n",
       "    }\n",
       "\n",
       "    .dataframe tbody tr th {\n",
       "        vertical-align: top;\n",
       "    }\n",
       "\n",
       "    .dataframe thead th {\n",
       "        text-align: right;\n",
       "    }\n",
       "</style>\n",
       "<table border=\"1\" class=\"dataframe\">\n",
       "  <thead>\n",
       "    <tr style=\"text-align: right;\">\n",
       "      <th></th>\n",
       "      <th>review</th>\n",
       "    </tr>\n",
       "  </thead>\n",
       "  <tbody>\n",
       "    <tr>\n",
       "      <th>0</th>\n",
       "      <td>The new iPhone 15 has an amazing camera and ba...</td>\n",
       "    </tr>\n",
       "    <tr>\n",
       "      <th>1</th>\n",
       "      <td>I had a terrible experience with the Samsung s...</td>\n",
       "    </tr>\n",
       "    <tr>\n",
       "      <th>2</th>\n",
       "      <td>The laptop by Dell performs decently for the p...</td>\n",
       "    </tr>\n",
       "    <tr>\n",
       "      <th>3</th>\n",
       "      <td>Amazon's delivery was super fast and reliable.</td>\n",
       "    </tr>\n",
       "    <tr>\n",
       "      <th>4</th>\n",
       "      <td>The movie was boring and too long.</td>\n",
       "    </tr>\n",
       "    <tr>\n",
       "      <th>5</th>\n",
       "      <td>The teacher explained AI concepts very clearly...</td>\n",
       "    </tr>\n",
       "  </tbody>\n",
       "</table>\n",
       "</div>"
      ],
      "text/plain": [
       "                                              review\n",
       "0  The new iPhone 15 has an amazing camera and ba...\n",
       "1  I had a terrible experience with the Samsung s...\n",
       "2  The laptop by Dell performs decently for the p...\n",
       "3     Amazon's delivery was super fast and reliable.\n",
       "4                 The movie was boring and too long.\n",
       "5  The teacher explained AI concepts very clearly..."
      ]
     },
     "execution_count": 3,
     "metadata": {},
     "output_type": "execute_result"
    }
   ],
   "source": [
    "reviews = [\n",
    "    \"The new iPhone 15 has an amazing camera and battery life!\",\n",
    "    \"I had a terrible experience with the Samsung support team.\",\n",
    "    \"The laptop by Dell performs decently for the price.\",\n",
    "    \"Amazon's delivery was super fast and reliable.\",\n",
    "    \"The movie was boring and too long.\",\n",
    "    \"The teacher explained AI concepts very clearly and kindly.\"\n",
    "]\n",
    "\n",
    "df = pd.DataFrame(reviews, columns=[\"review\"])\n",
    "df"
   ]
  },
  {
   "cell_type": "code",
   "execution_count": 4,
   "id": "cb1cfbe2",
   "metadata": {},
   "outputs": [
    {
     "data": {
      "text/html": [
       "<div>\n",
       "<style scoped>\n",
       "    .dataframe tbody tr th:only-of-type {\n",
       "        vertical-align: middle;\n",
       "    }\n",
       "\n",
       "    .dataframe tbody tr th {\n",
       "        vertical-align: top;\n",
       "    }\n",
       "\n",
       "    .dataframe thead th {\n",
       "        text-align: right;\n",
       "    }\n",
       "</style>\n",
       "<table border=\"1\" class=\"dataframe\">\n",
       "  <thead>\n",
       "    <tr style=\"text-align: right;\">\n",
       "      <th></th>\n",
       "      <th>review</th>\n",
       "      <th>entities</th>\n",
       "    </tr>\n",
       "  </thead>\n",
       "  <tbody>\n",
       "    <tr>\n",
       "      <th>0</th>\n",
       "      <td>The new iPhone 15 has an amazing camera and ba...</td>\n",
       "      <td>[]</td>\n",
       "    </tr>\n",
       "    <tr>\n",
       "      <th>1</th>\n",
       "      <td>I had a terrible experience with the Samsung s...</td>\n",
       "      <td>[(Samsung, ORG)]</td>\n",
       "    </tr>\n",
       "    <tr>\n",
       "      <th>2</th>\n",
       "      <td>The laptop by Dell performs decently for the p...</td>\n",
       "      <td>[(Dell, ORG)]</td>\n",
       "    </tr>\n",
       "    <tr>\n",
       "      <th>3</th>\n",
       "      <td>Amazon's delivery was super fast and reliable.</td>\n",
       "      <td>[(Amazon, ORG)]</td>\n",
       "    </tr>\n",
       "    <tr>\n",
       "      <th>4</th>\n",
       "      <td>The movie was boring and too long.</td>\n",
       "      <td>[]</td>\n",
       "    </tr>\n",
       "    <tr>\n",
       "      <th>5</th>\n",
       "      <td>The teacher explained AI concepts very clearly...</td>\n",
       "      <td>[(AI, ORG)]</td>\n",
       "    </tr>\n",
       "  </tbody>\n",
       "</table>\n",
       "</div>"
      ],
      "text/plain": [
       "                                              review          entities\n",
       "0  The new iPhone 15 has an amazing camera and ba...                []\n",
       "1  I had a terrible experience with the Samsung s...  [(Samsung, ORG)]\n",
       "2  The laptop by Dell performs decently for the p...     [(Dell, ORG)]\n",
       "3     Amazon's delivery was super fast and reliable.   [(Amazon, ORG)]\n",
       "4                 The movie was boring and too long.                []\n",
       "5  The teacher explained AI concepts very clearly...       [(AI, ORG)]"
      ]
     },
     "execution_count": 4,
     "metadata": {},
     "output_type": "execute_result"
    }
   ],
   "source": [
    "def extract_entities(text):\n",
    "    doc = nlp(text)\n",
    "    return [(ent.text, ent.label_) for ent in doc.ents]\n",
    "\n",
    "df[\"entities\"] = df[\"review\"].apply(extract_entities)\n",
    "df"
   ]
  },
  {
   "cell_type": "code",
   "execution_count": 5,
   "id": "f1c2900c",
   "metadata": {},
   "outputs": [
    {
     "data": {
      "text/html": [
       "<div>\n",
       "<style scoped>\n",
       "    .dataframe tbody tr th:only-of-type {\n",
       "        vertical-align: middle;\n",
       "    }\n",
       "\n",
       "    .dataframe tbody tr th {\n",
       "        vertical-align: top;\n",
       "    }\n",
       "\n",
       "    .dataframe thead th {\n",
       "        text-align: right;\n",
       "    }\n",
       "</style>\n",
       "<table border=\"1\" class=\"dataframe\">\n",
       "  <thead>\n",
       "    <tr style=\"text-align: right;\">\n",
       "      <th></th>\n",
       "      <th>review</th>\n",
       "      <th>entities</th>\n",
       "      <th>sentiment_score</th>\n",
       "      <th>sentiment_label</th>\n",
       "    </tr>\n",
       "  </thead>\n",
       "  <tbody>\n",
       "    <tr>\n",
       "      <th>0</th>\n",
       "      <td>The new iPhone 15 has an amazing camera and ba...</td>\n",
       "      <td>[]</td>\n",
       "      <td>0.443182</td>\n",
       "      <td>Positive</td>\n",
       "    </tr>\n",
       "    <tr>\n",
       "      <th>1</th>\n",
       "      <td>I had a terrible experience with the Samsung s...</td>\n",
       "      <td>[(Samsung, ORG)]</td>\n",
       "      <td>-1.000000</td>\n",
       "      <td>Negative</td>\n",
       "    </tr>\n",
       "    <tr>\n",
       "      <th>2</th>\n",
       "      <td>The laptop by Dell performs decently for the p...</td>\n",
       "      <td>[(Dell, ORG)]</td>\n",
       "      <td>0.166667</td>\n",
       "      <td>Positive</td>\n",
       "    </tr>\n",
       "    <tr>\n",
       "      <th>3</th>\n",
       "      <td>Amazon's delivery was super fast and reliable.</td>\n",
       "      <td>[(Amazon, ORG)]</td>\n",
       "      <td>0.266667</td>\n",
       "      <td>Positive</td>\n",
       "    </tr>\n",
       "    <tr>\n",
       "      <th>4</th>\n",
       "      <td>The movie was boring and too long.</td>\n",
       "      <td>[]</td>\n",
       "      <td>-0.525000</td>\n",
       "      <td>Negative</td>\n",
       "    </tr>\n",
       "    <tr>\n",
       "      <th>5</th>\n",
       "      <td>The teacher explained AI concepts very clearly...</td>\n",
       "      <td>[(AI, ORG)]</td>\n",
       "      <td>0.365000</td>\n",
       "      <td>Positive</td>\n",
       "    </tr>\n",
       "  </tbody>\n",
       "</table>\n",
       "</div>"
      ],
      "text/plain": [
       "                                              review          entities  \\\n",
       "0  The new iPhone 15 has an amazing camera and ba...                []   \n",
       "1  I had a terrible experience with the Samsung s...  [(Samsung, ORG)]   \n",
       "2  The laptop by Dell performs decently for the p...     [(Dell, ORG)]   \n",
       "3     Amazon's delivery was super fast and reliable.   [(Amazon, ORG)]   \n",
       "4                 The movie was boring and too long.                []   \n",
       "5  The teacher explained AI concepts very clearly...       [(AI, ORG)]   \n",
       "\n",
       "   sentiment_score sentiment_label  \n",
       "0         0.443182        Positive  \n",
       "1        -1.000000        Negative  \n",
       "2         0.166667        Positive  \n",
       "3         0.266667        Positive  \n",
       "4        -0.525000        Negative  \n",
       "5         0.365000        Positive  "
      ]
     },
     "execution_count": 5,
     "metadata": {},
     "output_type": "execute_result"
    }
   ],
   "source": [
    "def get_sentiment(text):\n",
    "    blob = TextBlob(text)\n",
    "    return blob.sentiment.polarity\n",
    "\n",
    "df[\"sentiment_score\"] = df[\"review\"].apply(get_sentiment)\n",
    "\n",
    "def label_sentiment(score):\n",
    "    if score > 0.1:\n",
    "        return \"Positive\"\n",
    "    elif score < -0.1:\n",
    "        return \"Negative\"\n",
    "    else:\n",
    "        return \"Neutral\"\n",
    "\n",
    "df[\"sentiment_label\"] = df[\"sentiment_score\"].apply(label_sentiment)\n",
    "df"
   ]
  },
  {
   "cell_type": "code",
   "execution_count": 13,
   "id": "c48bb021",
   "metadata": {},
   "outputs": [
    {
     "data": {
      "image/png": "[encoded data removed]",
      "text/plain": [
       "<Figure size 600x400 with 1 Axes>"
      ]
     },
     "metadata": {},
     "output_type": "display_data"
    }
   ],
   "source": [
    "plt.figure(figsize=(6, 4))\n",
    "sns.countplot(x=\"sentiment_label\", hue=\"sentiment_label\", data=df, palette=\"viridis\", legend=False)\n",
    "plt.title(\"Sentiment Distribution — TextBlob\")\n",
    "plt.xlabel(\"Sentiment\")\n",
    "plt.ylabel(\"Count\")\n",
    "plt.savefig(\"images/spacy_sentiment_distribution.png\", bbox_inches='tight')\n",
    "plt.show()"
   ]
  },
  {
   "cell_type": "code",
   "execution_count": 7,
   "id": "00e273e7",
   "metadata": {},
   "outputs": [
    {
     "name": "stdout",
     "output_type": "stream",
     "text": [
      "\n",
      "Review 1: The new iPhone 15 has an amazing camera and battery life!\n",
      "Entities: []\n",
      "Sentiment: Positive (0.44)\n",
      "\n",
      "Review 2: I had a terrible experience with the Samsung support team.\n",
      "Entities: [('Samsung', 'ORG')]\n",
      "Sentiment: Negative (-1.00)\n",
      "\n",
      "Review 3: The laptop by Dell performs decently for the price.\n",
      "Entities: [('Dell', 'ORG')]\n",
      "Sentiment: Positive (0.17)\n",
      "\n",
      "Review 4: Amazon's delivery was super fast and reliable.\n",
      "Entities: [('Amazon', 'ORG')]\n",
      "Sentiment: Positive (0.27)\n",
      "\n",
      "Review 5: The movie was boring and too long.\n",
      "Entities: []\n",
      "Sentiment: Negative (-0.53)\n",
      "\n",
      "Review 6: The teacher explained AI concepts very clearly and kindly.\n",
      "Entities: [('AI', 'ORG')]\n",
      "Sentiment: Positive (0.36)\n"
     ]
    }
   ],
   "source": [
    "for i, row in df.iterrows():\n",
    "    print(f\"\\nReview {i+1}: {row['review']}\")\n",
    "    print(f\"Entities: {row['entities']}\")\n",
    "    print(f\"Sentiment: {row['sentiment_label']} ({row['sentiment_score']:.2f})\")"
   ]
  },
  {
   "cell_type": "code",
   "execution_count": 11,
   "id": "f359bd28",
   "metadata": {},
   "outputs": [
    {
     "name": "stdout",
     "output_type": "stream",
     "text": [
      "✅ NER visualization saved to images/spacy_ner_example.html\n"
     ]
    }
   ],
   "source": [
    "# Visualize NER for one example\n",
    "from spacy import displacy\n",
    "import warnings\n",
    "\n",
    "sample_text = next((r for r in reviews if len(nlp(r).ents) > 0), reviews[0])\n",
    "doc = nlp(sample_text)\n",
    "\n",
    "html = displacy.render(doc, style=\"ent\", jupyter=False)\n",
    "with open(\"images/spacy_ner_example.html\", \"w\", encoding=\"utf-8\") as f:\n",
    "    f.write(html)\n",
    "\n",
    "print(\"✅ NER visualization saved to images/spacy_ner_example.html\")"
   ]
  },
  {
   "cell_type": "markdown",
   "id": "76ce4960",
   "metadata": {},
   "source": [
    "## ✅ Summary\n",
    "\n",
    "- **Frameworks:** spaCy (NER) & TextBlob (Sentiment Analysis)  \n",
    "- **Dataset:** 6 sample customer reviews  \n",
    "- **Tasks:**\n",
    "  - Extracted entities (products, brands, etc.)  \n",
    "  - Calculated sentiment polarity  \n",
    "- **Results:**\n",
    "  - spaCy correctly identified named entities.\n",
    "  - TextBlob labeled sentiment as Positive / Neutral / Negative.\n",
    "- **Saved outputs:**\n",
    "  - `spacy_sentiment_distribution.png`\n",
    "  - `spacy_ner_example.html`"
   ]
  }
 ],
 "metadata": {
  "kernelspec": {
   "display_name": "venv",
   "language": "python",
   "name": "python3"
  },
  "language_info": {
   "codemirror_mode": {
    "name": "ipython",
    "version": 3
   },
   "file_extension": ".py",
   "mimetype": "text/x-python",
   "name": "python",
   "nbconvert_exporter": "python",
   "pygments_lexer": "ipython3",
   "version": "3.13.1"
  }
 },
 "nbformat": 4,
 "nbformat_minor": 5
}
